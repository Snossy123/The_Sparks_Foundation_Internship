{
 "cells": [
  {
   "cell_type": "code",
   "execution_count": 1,
   "id": "631e8d24-7905-4de4-b8cb-93f244cc1837",
   "metadata": {},
   "outputs": [],
   "source": [
    "def shaheen():\n",
    "    print(\"hhh\")"
   ]
  },
  {
   "cell_type": "code",
   "execution_count": null,
   "id": "03b7ee06-b506-4bd8-b2a4-431cd3c04c87",
   "metadata": {},
   "outputs": [],
   "source": []
  }
 ],
 "metadata": {
  "kernelspec": {
   "display_name": "Python 3 (ipykernel)",
   "language": "python",
   "name": "python3"
  },
  "language_info": {
   "codemirror_mode": {
    "name": "ipython",
    "version": 3
   },
   "file_extension": ".py",
   "mimetype": "text/x-python",
   "name": "python",
   "nbconvert_exporter": "python",
   "pygments_lexer": "ipython3",
   "version": "3.9.2"
  }
 },
 "nbformat": 4,
 "nbformat_minor": 5
}
